{
 "cells": [
  {
   "cell_type": "code",
   "execution_count": null,
   "metadata": {},
   "outputs": [],
   "source": [
    "import geopandas as gpd\n",
    "import pandas as pd\n",
    "\n"
   ]
  },
  {
   "cell_type": "code",
   "execution_count": null,
   "metadata": {},
   "outputs": [],
   "source": [
    "combined_gdf = gpd.read_feather('data/prepared/combined.feather')"
   ]
  },
  {
   "cell_type": "code",
   "execution_count": null,
   "metadata": {},
   "outputs": [],
   "source": [
    "gdf = combined_gdf.reset_index(drop=True)"
   ]
  },
  {
   "cell_type": "code",
   "execution_count": null,
   "metadata": {},
   "outputs": [],
   "source": [
    "combined_gdf['category'].unique()"
   ]
  },
  {
   "cell_type": "code",
   "execution_count": null,
   "metadata": {},
   "outputs": [],
   "source": [
    "def category_mapping(category:str):\n",
    "    category = category.lower()\n",
    "    remap = {\n",
    "        'hotel':'restaurant',\n",
    "        'casual dining':'restaurant',\n",
    "        'food/beverage specialty store':'grocery',\n",
    "        'bakery & baked goods store': 'grocery',\n",
    "        'tower': 'tourist attraction',\n",
    "        'monument': 'tourist attraction',\n",
    "        'sports facility/venue': 'bar or pub',\n",
    "        'primary school':'primary/secondary school',\n",
    "        'secondary school':'primary/secondary school',\n",
    "        'special school': 'primary/secondary school'\n",
    "    }\n",
    "    remapped_cat = remap.get(category,category)\n",
    "    return remapped_cat\n",
    "\n",
    "# [print(f'{x} --> {category_mapping(x)}') for x in combined_gdf['category'].unique()]\n",
    "\n",
    "gdf['category'] = gdf['category'].apply(category_mapping)"
   ]
  },
  {
   "cell_type": "code",
   "execution_count": null,
   "metadata": {},
   "outputs": [],
   "source": [
    "gdf['category'].unique()"
   ]
  },
  {
   "cell_type": "code",
   "execution_count": null,
   "metadata": {},
   "outputs": [],
   "source": [
    "gdf.plot()"
   ]
  },
  {
   "cell_type": "code",
   "execution_count": null,
   "metadata": {},
   "outputs": [],
   "source": [
    "focus_zone = gpd.read_feather('data/prepared/lga.feather').unary_union\n",
    "\n",
    "destinations_gdf = gdf[gdf.intersects(focus_zone)]"
   ]
  },
  {
   "cell_type": "code",
   "execution_count": null,
   "metadata": {},
   "outputs": [],
   "source": [
    "ax = destinations_gdf.plot(figsize=(10, 10))\n",
    "gpd.GeoSeries([focus_zone]).plot(ax=ax, color='none', edgecolor='red', linewidth=2)"
   ]
  },
  {
   "cell_type": "code",
   "execution_count": null,
   "metadata": {},
   "outputs": [],
   "source": [
    "from pyproj import CRS\n",
    "import osmnx as ox\n",
    "\n",
    "GDA2020 = CRS(7844)\n",
    "\n",
    "GDA2020"
   ]
  },
  {
   "cell_type": "code",
   "execution_count": null,
   "metadata": {},
   "outputs": [],
   "source": [
    "# for origin points, we import the road network and population densities, and distribute points along the road network accordingly\n",
    "\n",
    "from osmnx.io import save_graph_geopackage\n",
    "\n",
    "n, s, e, w = -37.4, -38.1, 145.4, 144.4\n",
    "\n",
    "bbox = [n,s,e,w]\n",
    "\n",
    "road_graph = ox.graph_from_polygon(focus_zone, network_type='walk',\n",
    "                                   simplify=False, retain_all=False)\n",
    "\n",
    "\n",
    "save_graph_geopackage(road_graph,'data/prepared/graph.gpkg',directed=False)\n",
    "\n",
    "nodes, edges = ox.graph_to_gdfs(road_graph, nodes=True, edges=True)\n",
    "\n",
    "\n"
   ]
  },
  {
   "cell_type": "code",
   "execution_count": null,
   "metadata": {},
   "outputs": [],
   "source": [
    "import folium\n",
    "\n",
    "center_point = focus_zone.centroid\n",
    "m = folium.Map(location=[center_point.y, center_point.x], zoom_start=15)\n",
    "\n",
    "# Add the edges and nodes to the map\n",
    "# This can be resource-intensive for large datasets, consider simplifying if it's too heavy\n",
    "ox.plot_graph_folium(road_graph, graph_map=m, popup_attribute='name', edge_width=2)"
   ]
  },
  {
   "cell_type": "code",
   "execution_count": null,
   "metadata": {},
   "outputs": [],
   "source": [
    "from osmnx.io import save_graph_geopackage"
   ]
  },
  {
   "cell_type": "code",
   "execution_count": null,
   "metadata": {},
   "outputs": [],
   "source": [
    "road_graph.nodes(data=True)"
   ]
  },
  {
   "cell_type": "code",
   "execution_count": null,
   "metadata": {},
   "outputs": [],
   "source": [
    "nodes.head(10)"
   ]
  },
  {
   "cell_type": "code",
   "execution_count": null,
   "metadata": {},
   "outputs": [],
   "source": [
    "edges.head(20)"
   ]
  },
  {
   "cell_type": "code",
   "execution_count": null,
   "metadata": {},
   "outputs": [],
   "source": [
    "import igraph"
   ]
  }
 ],
 "metadata": {
  "kernelspec": {
   "display_name": "walkability",
   "language": "python",
   "name": "python3"
  },
  "language_info": {
   "codemirror_mode": {
    "name": "ipython",
    "version": 3
   },
   "file_extension": ".py",
   "mimetype": "text/x-python",
   "name": "python",
   "nbconvert_exporter": "python",
   "pygments_lexer": "ipython3",
   "version": "3.11.6"
  }
 },
 "nbformat": 4,
 "nbformat_minor": 2
}
